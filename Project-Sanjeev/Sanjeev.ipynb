{
  "nbformat": 4,
  "nbformat_minor": 0,
  "metadata": {
    "colab": {
      "name": "Sanjeev.ipynb",
      "provenance": [],
      "collapsed_sections": [],
      "include_colab_link": true
    },
    "kernelspec": {
      "name": "python3",
      "display_name": "Python 3"
    }
  },
  "cells": [
    {
      "cell_type": "markdown",
      "metadata": {
        "id": "view-in-github",
        "colab_type": "text"
      },
      "source": [
        "<a href=\"https://colab.research.google.com/github/PS-Ddevil/Civil-bros-projects/blob/master/Project-Sanjeev/Sanjeev.ipynb\" target=\"_parent\"><img src=\"https://colab.research.google.com/assets/colab-badge.svg\" alt=\"Open In Colab\"/></a>"
      ]
    },
    {
      "cell_type": "code",
      "metadata": {
        "id": "QIfsxs9oszhd",
        "colab_type": "code",
        "colab": {}
      },
      "source": [
        "import math \n",
        "import matplotlib.pyplot as plt\n",
        "import numpy as np"
      ],
      "execution_count": 0,
      "outputs": []
    },
    {
      "cell_type": "code",
      "metadata": {
        "id": "Bzenw-Ffs8cq",
        "colab_type": "code",
        "colab": {}
      },
      "source": [
        "def calculate_C1(q, q_bar):\n",
        "    return (1 - 0.5*(q/(q_bar-q)))\n",
        "\n",
        "def calculate_C2(yr):\n",
        "    return 1 + 0.2*math.log10(yr/0.1)\n",
        "\n",
        "def calculate_z1(l, b):\n",
        "    z = b*(0.5 + 0.0555*((l/b)-1))\n",
        "    if z/b > 1:\n",
        "        z = b\n",
        "    return z\n",
        "\n",
        "def calculate_z2(l, b):\n",
        "    z = b*(2 + 0.222*((l/b)-1))\n",
        "    if z/b > 4:\n",
        "        z = b\n",
        "    return z\n",
        "\n",
        "def calculate_iz_0(l, b):\n",
        "    iz = (0.1 + 0.0111*((l/b)-1))\n",
        "    if iz > 0.2:\n",
        "        iz = 0.2\n",
        "    return iz\n",
        "\n",
        "def calculate_iz_max(q, q_bar, q_z1):\n",
        "    iz_max = 0.5 + 0.1*math.sqrt((q_bar - q)/(q_z1))\n",
        "    return iz_max"
      ],
      "execution_count": 0,
      "outputs": []
    },
    {
      "cell_type": "code",
      "metadata": {
        "id": "DXcJlmeRs8x2",
        "colab_type": "code",
        "outputId": "dc02a775-f840-4e92-85c3-672b9fc32cc9",
        "colab": {
          "base_uri": "https://localhost:8080/",
          "height": 167
        }
      },
      "source": [
        "l, b, D, = [float(c) for c in input(\"Enter the length, breadth and depth of footing in meter as L B D:\").split()] \n",
        "yr = float(input(\"Enter the creep time in years:\"))\n",
        "j, x = [float(c) for c in input(\"Give q_bar Intensity(kN/m2) or Load(kN): 1 Intensity or 2 load:\").split()]\n",
        "\n",
        "#CPT and SPT\n",
        "ch = int(input('Do you have SPT data or CPT data?\\nEnter 1 for SPT or Enter 2 for CPT:'))\n",
        "if ch == 1:\n",
        "    z_all = [float(c) for c in input(\"Enter the breakpoint as(m) x1 x2 x3...:\").split()] \n",
        "    N = [float(c) for c in input(\"Enter the N values as N1 N2 N3...:\").split()]\n",
        "    z_all = np.array(z_all)\n",
        "    z_all = -1*z_all\n",
        "    z_all = np.sort(z_all)\n",
        "    z_all[::-1].sort()\n",
        "    tmp_zall = z_all\n",
        "    print(z_all)\n",
        "    N = np.array(N)\n",
        "    print(N)\n",
        "    alp = int(input(\"Enter the value of alpha:\"))\n",
        "    Es = alp*100*N;\n",
        "    print(Es)\n",
        "elif ch == 2:\n",
        "  z_all = [float(c) for c in input(\"Enter the breakpoints as(m) x1 x2 x3...:\").split()]\n",
        "  qc = [float(c) for c in input(\"Enter the qc values(kN/m2) qc1 qc2 qc3...:\").split()]\n",
        "  z_all = np.array(z_all)\n",
        "  z_all = -1*z_all\n",
        "  z_all = np.sort(z_all)\n",
        "  z_all[::-1].sort()\n",
        "  tmp_zall = z_all\n",
        "  qc = np.array(qc)\n",
        "  Es = (1+0.4*math.log10(l/b))*2.5*qc\n",
        " #CPT and SPT\n",
        "\n",
        "z1 = calculate_z1(l, b)\n",
        "if j == 1:\n",
        "   q_bar = x\n",
        "elif j == 2:\n",
        "     q_bar = x/(l*b)\n",
        "# is_unitwt = int(input(\"Enter 0 if unit weight is same for each layer or Enter 1 if it is not same for each layer:\"))\n",
        "# if is_unitwt == 0:\n",
        "is_wt = int(input(\"Enter 0 if water table below the D+z1 or Enter 1 if it is above D+z1:\"))\n",
        "\n",
        "if is_wt == 0:\n",
        "    x = float(input(\"Enter the average unit weight of soil in kN/m3:\"))\n",
        "    q = x*D\n",
        "    q_z1 = q+x*z1\n",
        "else:\n",
        "    x = float(input(\"Enter the unit weight of soil in kN/m3:\"))\n",
        "    d = float(input(\"Enter the depth of WT from GL:\"))\n",
        "    if(d>=0 and d<=D):\n",
        "      q = x*d+(x-9.81)*(D-d)\n",
        "      q_z1 = q+(x-9.81)*z1\n",
        "    elif(d>D and d<=z1+D):\n",
        "      q = x*D\n",
        "      q_z1 = q+x*(d-D)+(x-9.81)*(z1-(d-D))\n",
        "    if(d>z1+D):\n",
        "      q = x*D\n",
        "      q_z1 = q+x*z1\n",
        "# else:\n",
        "  # q = float(input(\"Enter the q value:\"))\n",
        "  # q_z1 = float(input(\"Enter the q_z1 value:\"))\n",
        "\n",
        "  # is_wt = int(input(\"Enter 0 if water table below the D+z1 or Enter 1 if it is above D+z1:\"))\n",
        "\n",
        "  # if is_wt == 0:\n",
        "  #   x = float(input(\"Enter the unit weight of soil in kN/m3:\"))\n",
        "  #   q = x*D\n",
        "  #   q_z1 = q+x*z1\n",
        "  # else:\n",
        "  #   # x = float(input(\"Enter the unit weight of soil in kN/m3\"))\n",
        "  #   d = float(input(\"Enter the depth of WT from GL:\"))\n",
        "  #   if(d==0):\n",
        "  #     x = float(input(\"Enter the submerged unit weight of soil in kN/m3:\"))\n",
        "  #     q = x*D\n",
        "  #     q_z1 = q+x*z1\n",
        "  #   elif(d==D):\n",
        "  #     is_soilsat = int(input(\"if soil is saturated above d Enter 0 if it is dry Enter 1:\"))\n",
        "  #     if is_soilsat == 0:\n",
        "  #       x = float(input(\"Enter the saturated unit weight of soil in kN/m3:\"))\n",
        "  #       q = x*d+(x-9.81)*(D-d)\n",
        "  #       q_z1 = q+(x-9.81)*z1\n",
        "  #     else:\n",
        "  #       x = float(input(\"Enter the dry unit weight of soil in kN/m3:\"))\n",
        "  #       q = x*d+(x-9.81)*(D-d)\n",
        "  #       q_z1 = q+(x-9.81)*z1\n",
        "\n",
        "\n",
        "      \n",
        "    # elif(d>0 and d<=D):\n",
        "    #   is_soilsat = int(input(\"if soil is saturated above d Enter 0 if it is dry Enter 1:\"))\n",
        "    #   if is_soilsat == 0:\n",
        "    #     x = float(input(\"Enter the saturated unit weight of soil in kN/m3:\"))\n",
        "    #     q = x*d+(x-9.81)*(D-d)\n",
        "    #     q_z1 = q+(x-9.81)*z1\n",
        "    # elif(d>D and d<=z1+D):\n",
        "    #   q = x*D\n",
        "    #   q_z1 = q+x*(d-D)+(x-9.81)*(z1-(d-D))\n",
        "    # if(d>z1+D):\n",
        "    #   q = x*D\n",
        "    #   q_z1 = q+x*z1\n",
        "    \n",
        "\n",
        "\n"
      ],
      "execution_count": 0,
      "outputs": [
        {
          "output_type": "stream",
          "text": [
            "Enter the length, breadth and depth of footing in meter as L B D:4 2 1.2\n",
            "Enter the creep time in years:10\n",
            "Give q_bar Intensity(kN/m2) or Load(kN): 1 Intensity or 2 load:1 145\n",
            "Do you have SPT data or CPT data?\n",
            "Enter 1 for SPT or Enter 2 for CPT:2\n",
            "Enter the breakpoints as(m) x1 x2 x3...:.5 2.5 5\n",
            "Enter the qc values(kN/m2) qc1 qc2 qc3...:2250 3430 2950\n",
            "Enter 0 if water table below the D+z1 or Enter 1 if it is above D+z1:0\n",
            "Enter the average unit weight of soil in kN/m3:17.5\n"
          ],
          "name": "stdout"
        }
      ]
    },
    {
      "cell_type": "code",
      "metadata": {
        "id": "CUjVKvlLs9MT",
        "colab_type": "code",
        "outputId": "590a1e86-d4d9-4c63-8013-37ab52e0eb79",
        "colab": {
          "base_uri": "https://localhost:8080/",
          "height": 117
        }
      },
      "source": [
        "C1 = calculate_C1(q, q_bar)\n",
        "C2 = calculate_C2(yr)\n",
        "z1 = calculate_z1(l, b)\n",
        "z2 = calculate_z2(l, b)\n",
        "print(\" C1 = \", C1,\"\\n\"\" C2 = \", C2,\"\\n\" \" z1 = \", z1,\"\\n\" \" z2 = \", z2)\n",
        "iz_0 = calculate_iz_0(l,b)\n",
        "iz_max = calculate_iz_max(q, q_bar, q_z1)\n",
        "print(\" iz_0 = \", iz_0,\"\\n\" \" iz_max = \", iz_max)"
      ],
      "execution_count": 0,
      "outputs": [
        {
          "output_type": "stream",
          "text": [
            " C1 =  0.9153225806451613 \n",
            " C2 =  1.4 \n",
            " z1 =  1.111 \n",
            " z2 =  4.444\n",
            " iz_0 =  0.1111 \n",
            " iz_max =  0.6751022979203078\n"
          ],
          "name": "stdout"
        }
      ]
    },
    {
      "cell_type": "code",
      "metadata": {
        "id": "jifr1AH7s9gl",
        "colab_type": "code",
        "colab": {}
      },
      "source": [
        "y1 = [0, -z1, -z2]\n",
        "x1 = [iz_0 , iz_max, 0]"
      ],
      "execution_count": 0,
      "outputs": []
    },
    {
      "cell_type": "code",
      "metadata": {
        "id": "AmlebvFhs-Ku",
        "colab_type": "code",
        "colab": {}
      },
      "source": [
        "# ch = int(input('Do you have SPT data or CPT data?\\n Enter 1 for SPT or Enter 2 for CPT'))\n",
        "# if ch == 1:\n",
        "#     z_all = [float(c) for c in input(\"Enter the breakpoint as(m) x1 x2 x3.....\").split()] \n",
        "#     N = [float(c) for c in input(\"Enter the N values as N1 N2 N3\\n\").split()]\n",
        "#     # z_all.append(0)\n",
        "#     # z_all = list(set(z_all))\n",
        "#     # z_all = z_all\n",
        "#     z_all = np.array(z_all)\n",
        "#     z_all = -1*z_all\n",
        "#     z_all = np.sort(z_all)\n",
        "#     z_all[::-1].sort()\n",
        "#     tmp_zall = z_all\n",
        "#     print(z_all)\n",
        "#     N = np.array(N)\n",
        "#     # N = np.flip(N)\n",
        "#     print(N)\n",
        "#     alp = int(input(\"Enter the value of alpha\"))\n",
        "#     Es = alp*100*N;\n",
        "#     print(Es)\n",
        "# elif ch == 2:\n",
        "#   z_all = [float(c) for c in input(\"Enter the breakpoints as(m) x1 x2 x3......\").split()]\n",
        "#   qc = [float(c) for c in input(\"Enter the qc values(kN/m2) qc1 qc2 qc3......\").split()]\n",
        "#   z_all = np.array(z_all)\n",
        "#   z_all = -1*z_all\n",
        "#   z_all = np.sort(z_all)\n",
        "#   z_all[::-1].sort()\n",
        "#   tmp_zall = z_all\n",
        "#   # print(z_all)\n",
        "#   qc = np.array(qc)\n",
        "#   Es = (1+0.4*math.log10(l/b))*2.5*qc\n",
        "#   # print(Es)"
      ],
      "execution_count": 0,
      "outputs": []
    },
    {
      "cell_type": "code",
      "metadata": {
        "id": "YrkYCnjapi2v",
        "colab_type": "code",
        "colab": {}
      },
      "source": [
        "z_new = []\n",
        "z_new = np.insert(tmp_zall, 1, -z1)\n",
        "z_new = np.sort(z_new)\n",
        "z_new[::-1].sort()\n",
        "z_all = z_new\n",
        "# print(z_all)\n",
        "Es_new = []\n",
        "itr = 0\n",
        "flag = 0\n",
        "for i in Es:\n",
        "  if z_all[itr] == -z1 and flag == 0:\n",
        "    flag = 1\n",
        "    Es_new.append(i)\n",
        "  Es_new.append(i)\n",
        "  itr+=1\n",
        "# print(Es_new)"
      ],
      "execution_count": 0,
      "outputs": []
    },
    {
      "cell_type": "code",
      "metadata": {
        "id": "i1TGDYeBw2-L",
        "colab_type": "code",
        "colab": {}
      },
      "source": [
        "def cal_iz(iz_0, iz_max, z, z1, z2):\n",
        "  # print(iz_0, iz_max, z, z1, z2)\n",
        "  z = abs(z)\n",
        "  if z <= z1:\n",
        "    return iz_0 + ((iz_max - iz_0)/z1)*z\n",
        "  elif z > z1 and z <= z2:\n",
        "    return (iz_max*(z-z2)/(z1-z2))\n",
        "  else:\n",
        "    return 0"
      ],
      "execution_count": 0,
      "outputs": []
    },
    {
      "cell_type": "code",
      "metadata": {
        "id": "z-NFtPQ818Xb",
        "colab_type": "code",
        "outputId": "b2bb9fbf-a6e2-4a99-90dc-ea61f1a5e31f",
        "colab": {
          "base_uri": "https://localhost:8080/",
          "height": 547
        }
      },
      "source": [
        "print(\"OUTPUT\\n\")\n",
        "print(\" C1 = \", C1,\"\\n\"\" C2 = \", C2,\"\\n\" \" z1 = \", z1,\"\\n\" \" z2 = \", z2)\n",
        "print(\" iz_0 = \", iz_0,\"\\n\" \" iz_max = \", iz_max)\n",
        "# importing the required module \n",
        "import matplotlib.pyplot as plt \n",
        "# print(z2)\n",
        "# x axis values\n",
        "x = [] \n",
        "z_to_table = []\n",
        "x.append(0)\n",
        "x.append(0)\n",
        "for i in z_all:\n",
        "  if i < -z2:\n",
        "    z_to_table.append(-z2)\n",
        "    x.append(-z2)\n",
        "    x.append(-z2)\n",
        "    break\n",
        "  else:\n",
        "    z_to_table.append(i)\n",
        "    x.append(i)\n",
        "    x.append(i)\n",
        "# print(x)\n",
        "# x = [0,7000,7000,11000,11000,16000,16000,0] \n",
        "\n",
        "# corresponding y axis values \n",
        "y = []\n",
        "# print(len(z_to_table))\n",
        "y.append(0)\n",
        "itr = 1\n",
        "for i in Es_new:\n",
        "  if itr > len(z_to_table)+1:\n",
        "    break;\n",
        "  y.append(i)\n",
        "  y.append(i)\n",
        "  itr+=1\n",
        "y.append(0)  \n",
        "plt.subplot(1, 2, 1)\n",
        "plt.plot(y, x,marker='o') \n",
        "  \n",
        "# naming the x axis \n",
        "plt.xlabel('Es') \n",
        "# naming the y axis \n",
        "plt.ylabel('Z') \n",
        "  \n",
        "# function to show the plot \n",
        "# plt.show()\n",
        "plt.subplot(1, 2, 2)\n",
        "plt.plot(x1, y1, color='black', linewidth = 3, \n",
        "      marker='o', markerfacecolor='black', markersize=12)  \n",
        "plt.xlabel('iz')  \n",
        "plt.ylabel('z') \n",
        "plt.savefig(\"ans.jpg\")\n",
        "plt.show()\n",
        "\n",
        "#For Table\n",
        "print(\"Layer No\\tΔz(m)\\tEs(kN/m2)\\tIz(at mid)\\t(Iz/Es)Δz(m3/kN)\")\n",
        "itr = -1\n",
        "# print(z_to_table)\n",
        "# print(Es_new)\n",
        "sum = 0;\n",
        "for i, j in zip(z_to_table, Es_new):\n",
        "  itr+=1\n",
        "  # iz = cal_iz(iz_0, iz_max, )\n",
        "  if itr == 0:\n",
        "    iz = cal_iz(iz_0, iz_max, -i/2, z1, z2)\n",
        "    print(itr, \"\\t\\t\", -i, \"\\t%.2f\" %round(j,2),\"\\t%.3f\" %round(iz, 3), \"\\t\\t\", (iz/j)*(-i))\n",
        "    sum += (iz/j)*(-i)\n",
        "    continue\n",
        "  else:\n",
        "    iz = cal_iz(iz_0, iz_max, (-i-z_to_table[itr-1])/2, z1, z2)\n",
        "    print(itr, \"\\t\\t%.2f\" %round(z_to_table[itr-1] - i, 2), \"\\t%.2f\" %round(j,2),\"\\t%.3f\" %round(iz, 3), \"\\t\\t\", (iz/j)*(z_to_table[itr-1] - i))\n",
        "    sum += (iz/j)*(z_to_table[itr-1] - i)\n",
        "print(\"\\t\\t\\t\\t\\t\\t\\t\"\"Sum = \", sum)\n",
        "# Table End\n",
        "Se = C1*C2*(q_bar-q)*sum\n",
        "print(\"\\n\"\"Se = %.2f\" %round(Se*1000, 2), \" mm\")"
      ],
      "execution_count": 0,
      "outputs": [
        {
          "output_type": "stream",
          "text": [
            "OUTPUT\n",
            "\n",
            " C1 =  0.9153225806451613 \n",
            " C2 =  1.4 \n",
            " z1 =  1.111 \n",
            " z2 =  4.444\n",
            " iz_0 =  0.1111 \n",
            " iz_max =  0.6751022979203078\n"
          ],
          "name": "stdout"
        },
        {
          "output_type": "display_data",
          "data": {
            "image/png": "[encoded data removed]",
            "text/plain": [
              "<Figure size 432x288 with 2 Axes>"
            ]
          },
          "metadata": {
            "tags": []
          }
        },
        {
          "output_type": "stream",
          "text": [
            "Layer No\tΔz(m)\tEs(kN/m2)\tIz(at mid)\t(Iz/Es)Δz(m3/kN)\n",
            "0 \t\t 0.5 \t6302.32 \t0.238 \t\t 1.8882990957005188e-05\n",
            "1 \t\t0.61 \t9607.53 \t0.520 \t\t 3.307079727097533e-05\n",
            "2 \t\t1.39 \t9607.53 \t0.534 \t\t 7.7264809323943e-05\n",
            "3 \t\t1.94 \t8263.04 \t0.197 \t\t 4.631877046606806e-05\n",
            "\t\t\t\t\t\t\tSum =  0.00017553736801799157\n",
            "\n",
            "Se = 27.89  mm\n"
          ],
          "name": "stdout"
        }
      ]
    }
  ]
}